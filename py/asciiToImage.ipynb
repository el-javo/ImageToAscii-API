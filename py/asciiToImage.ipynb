{
 "cells": [
  {
   "cell_type": "markdown",
   "metadata": {},
   "source": [
    "# AsciiToImage\n",
    "This Program will help us generate an img from the canvas.txt generated with the Image2Ascii. It is too easy doing it mannually in photoshop but this way we can create an img version automatically\n"
   ]
  },
  {
   "cell_type": "code",
   "execution_count": 1,
   "metadata": {},
   "outputs": [],
   "source": [
    "from PIL import Image, ImageDraw, ImageFont\n",
    "import os\n",
    "import matplotlib.pyplot as plt"
   ]
  },
  {
   "cell_type": "code",
   "execution_count": 2,
   "metadata": {},
   "outputs": [
    {
     "name": "stdout",
     "output_type": "stream",
     "text": [
      "ratio original: 1.0\n",
      "ratio canvas: 1.0\n"
     ]
    }
   ],
   "source": [
    "path = os.getcwd()\n",
    "\n",
    "file = open(path + '/out/canvas.txt').read()\n",
    "img = Image.open(path+'/in/modus.jpg') #imgin.jpg\n",
    "#calculate the expansion ratios for the chars\n",
    "resolution = 1\n",
    "(imgW, imgH) = img.size\n",
    "charW = len(file.splitlines()[0])\n",
    "charH = len(file.splitlines())\n",
    "ratioCW = 17*resolution\n",
    "ratioCH = 34*resolution\n",
    "print('ratio original: '+str(imgW/imgH))\n",
    "print('ratio canvas: '+str((charW*ratioCW)/(charH*ratioCH)))"
   ]
  },
  {
   "cell_type": "code",
   "execution_count": 3,
   "metadata": {},
   "outputs": [
    {
     "ename": "KeyboardInterrupt",
     "evalue": "",
     "output_type": "error",
     "traceback": [
      "\u001b[1;31m---------------------------------------------------------------------------\u001b[0m",
      "\u001b[1;31mKeyboardInterrupt\u001b[0m                         Traceback (most recent call last)",
      "\u001b[1;32m~\\AppData\\Local\\Temp\\ipykernel_12128\\2162212727.py\u001b[0m in \u001b[0;36m<module>\u001b[1;34m\u001b[0m\n\u001b[0;32m      9\u001b[0m \u001b[1;33m\u001b[0m\u001b[0m\n\u001b[0;32m     10\u001b[0m \u001b[1;32mfor\u001b[0m \u001b[0mline\u001b[0m\u001b[1;33m,\u001b[0m\u001b[0mi\u001b[0m \u001b[1;32min\u001b[0m \u001b[0mzip\u001b[0m\u001b[1;33m(\u001b[0m\u001b[0mfile\u001b[0m\u001b[1;33m.\u001b[0m\u001b[0msplitlines\u001b[0m\u001b[1;33m(\u001b[0m\u001b[1;33m)\u001b[0m\u001b[1;33m,\u001b[0m\u001b[0mrange\u001b[0m\u001b[1;33m(\u001b[0m\u001b[1;36m0\u001b[0m\u001b[1;33m,\u001b[0m\u001b[0mlen\u001b[0m\u001b[1;33m(\u001b[0m\u001b[0mfile\u001b[0m\u001b[1;33m.\u001b[0m\u001b[0msplitlines\u001b[0m\u001b[1;33m(\u001b[0m\u001b[1;33m)\u001b[0m\u001b[1;33m)\u001b[0m\u001b[1;33m)\u001b[0m\u001b[1;33m)\u001b[0m\u001b[1;33m:\u001b[0m\u001b[1;33m\u001b[0m\u001b[1;33m\u001b[0m\u001b[0m\n\u001b[1;32m---> 11\u001b[1;33m     \u001b[0mdraw\u001b[0m\u001b[1;33m.\u001b[0m\u001b[0mtext\u001b[0m\u001b[1;33m(\u001b[0m\u001b[1;33m(\u001b[0m\u001b[1;36m0\u001b[0m\u001b[1;33m,\u001b[0m \u001b[1;33m(\u001b[0m\u001b[0mratioCH\u001b[0m\u001b[1;33m)\u001b[0m\u001b[1;33m*\u001b[0m\u001b[0mi\u001b[0m\u001b[1;33m)\u001b[0m\u001b[1;33m,\u001b[0m\u001b[0mline\u001b[0m\u001b[1;33m,\u001b[0m \u001b[1;33m(\u001b[0m\u001b[1;36m0\u001b[0m\u001b[1;33m,\u001b[0m\u001b[1;36m0\u001b[0m\u001b[1;33m,\u001b[0m\u001b[1;36m0\u001b[0m\u001b[1;33m)\u001b[0m\u001b[1;33m,\u001b[0m \u001b[0mfont\u001b[0m \u001b[1;33m=\u001b[0m \u001b[0mfont\u001b[0m\u001b[1;33m)\u001b[0m\u001b[1;33m\u001b[0m\u001b[1;33m\u001b[0m\u001b[0m\n\u001b[0m\u001b[0;32m     12\u001b[0m \u001b[1;33m\u001b[0m\u001b[0m\n\u001b[0;32m     13\u001b[0m \u001b[1;33m\u001b[0m\u001b[0m\n",
      "\u001b[1;32mc:\\Users\\javim\\anaconda3\\envs\\image2\\lib\\site-packages\\PIL\\ImageDraw.py\u001b[0m in \u001b[0;36mtext\u001b[1;34m(self, xy, text, fill, font, anchor, spacing, align, direction, features, language, stroke_width, stroke_fill, embedded_color, *args, **kwargs)\u001b[0m\n\u001b[0;32m    481\u001b[0m             \u001b[1;32melse\u001b[0m\u001b[1;33m:\u001b[0m\u001b[1;33m\u001b[0m\u001b[1;33m\u001b[0m\u001b[0m\n\u001b[0;32m    482\u001b[0m                 \u001b[1;31m# Only draw normal text\u001b[0m\u001b[1;33m\u001b[0m\u001b[1;33m\u001b[0m\u001b[1;33m\u001b[0m\u001b[0m\n\u001b[1;32m--> 483\u001b[1;33m                 \u001b[0mdraw_text\u001b[0m\u001b[1;33m(\u001b[0m\u001b[0mink\u001b[0m\u001b[1;33m)\u001b[0m\u001b[1;33m\u001b[0m\u001b[1;33m\u001b[0m\u001b[0m\n\u001b[0m\u001b[0;32m    484\u001b[0m \u001b[1;33m\u001b[0m\u001b[0m\n\u001b[0;32m    485\u001b[0m     def multiline_text(\n",
      "\u001b[1;32mc:\\Users\\javim\\anaconda3\\envs\\image2\\lib\\site-packages\\PIL\\ImageDraw.py\u001b[0m in \u001b[0;36mdraw_text\u001b[1;34m(ink, stroke_width, stroke_offset)\u001b[0m\n\u001b[0;32m    465\u001b[0m                 \u001b[0mself\u001b[0m\u001b[1;33m.\u001b[0m\u001b[0mim\u001b[0m\u001b[1;33m.\u001b[0m\u001b[0mpaste\u001b[0m\u001b[1;33m(\u001b[0m\u001b[0mcolor\u001b[0m\u001b[1;33m,\u001b[0m \u001b[0mcoord\u001b[0m \u001b[1;33m+\u001b[0m \u001b[0mcoord2\u001b[0m\u001b[1;33m,\u001b[0m \u001b[0mmask\u001b[0m\u001b[1;33m)\u001b[0m\u001b[1;33m\u001b[0m\u001b[1;33m\u001b[0m\u001b[0m\n\u001b[0;32m    466\u001b[0m             \u001b[1;32melse\u001b[0m\u001b[1;33m:\u001b[0m\u001b[1;33m\u001b[0m\u001b[1;33m\u001b[0m\u001b[0m\n\u001b[1;32m--> 467\u001b[1;33m                 \u001b[0mself\u001b[0m\u001b[1;33m.\u001b[0m\u001b[0mdraw\u001b[0m\u001b[1;33m.\u001b[0m\u001b[0mdraw_bitmap\u001b[0m\u001b[1;33m(\u001b[0m\u001b[0mcoord\u001b[0m\u001b[1;33m,\u001b[0m \u001b[0mmask\u001b[0m\u001b[1;33m,\u001b[0m \u001b[0mink\u001b[0m\u001b[1;33m)\u001b[0m\u001b[1;33m\u001b[0m\u001b[1;33m\u001b[0m\u001b[0m\n\u001b[0m\u001b[0;32m    468\u001b[0m \u001b[1;33m\u001b[0m\u001b[0m\n\u001b[0;32m    469\u001b[0m         \u001b[0mink\u001b[0m \u001b[1;33m=\u001b[0m \u001b[0mgetink\u001b[0m\u001b[1;33m(\u001b[0m\u001b[0mfill\u001b[0m\u001b[1;33m)\u001b[0m\u001b[1;33m\u001b[0m\u001b[1;33m\u001b[0m\u001b[0m\n",
      "\u001b[1;31mKeyboardInterrupt\u001b[0m: "
     ]
    },
    {
     "data": {
      "image/png": "[encoded data removed]",
      "text/plain": [
       "<Figure size 432x288 with 1 Axes>"
      ]
     },
     "metadata": {
      "needs_background": "light"
     },
     "output_type": "display_data"
    }
   ],
   "source": [
    "#create the canvas\n",
    "blankImg = Image.new('RGB',(charW*ratioCW,charH*ratioCH), (255,255,255))\n",
    "plt.imshow(blankImg)\n",
    "\n",
    "# font\n",
    "font = ImageFont.truetype('consola', 30)\n",
    "#draw\n",
    "draw = ImageDraw.Draw(blankImg)\n",
    "\n",
    "for line,i in zip(file.splitlines(),range(0,len(file.splitlines()))):\n",
    "    draw.text((0, (ratioCH)*i),line, (0,0,0), font = font)\n",
    "    \n",
    "\n",
    "plt.imshow(blankImg)\n",
    "blankImg.save('test.jpg')"
   ]
  },
  {
   "cell_type": "markdown",
   "metadata": {},
   "source": [
    "#### Ahora que ya lo tenemos todo bien cuadradito vamos a darle buena forma de funcion para posteriormente hecerlo .py"
   ]
  },
  {
   "cell_type": "code",
   "execution_count": 1,
   "metadata": {},
   "outputs": [],
   "source": [
    "from PIL import Image, ImageDraw, ImageFont\n",
    "import os"
   ]
  },
  {
   "cell_type": "code",
   "execution_count": 2,
   "metadata": {},
   "outputs": [],
   "source": [
    "# decided to avoid the resolution param bc adjusting the font size would be a mess\n",
    "def asciiToImg(txt_path, out_path, background_color = (255,255,255), font_color = (0,0,0), font_path = 'consola'):\n",
    "    path = os.getcwd()\n",
    "    file = open(path +'/'+ txt_path).read()\n",
    "\n",
    "    charW = len(file.splitlines()[0])\n",
    "    charH = len(file.splitlines())\n",
    "    ratioCW = 17\n",
    "    ratioCH = 34\n",
    "\n",
    "    blankImg = Image.new('RGB',(charW*ratioCW,charH*ratioCH), background_color)\n",
    "    font = ImageFont.truetype('fonts/consola.ttf', 30)\n",
    "    draw = ImageDraw.Draw(blankImg)\n",
    "\n",
    "    for line,i in zip(file.splitlines(),range(0,len(file.splitlines()))):\n",
    "        draw.text((0, (ratioCH)*i),line, font_color, font = font)\n",
    "    blankImg.save(out_path) "
   ]
  },
  {
   "cell_type": "code",
   "execution_count": 4,
   "metadata": {},
   "outputs": [],
   "source": [
    "asciiToImg('out/canvas.txt','test.jpg',(255,255,255),(0,0,0))"
   ]
  }
 ],
 "metadata": {
  "interpreter": {
   "hash": "ee4eecd33d7395a641669817890fbab9c134cb22c4e16ce1985889fa8d747d93"
  },
  "kernelspec": {
   "display_name": "Python 3.7.11 ('image2')",
   "language": "python",
   "name": "python3"
  },
  "language_info": {
   "codemirror_mode": {
    "name": "ipython",
    "version": 3
   },
   "file_extension": ".py",
   "mimetype": "text/x-python",
   "name": "python",
   "nbconvert_exporter": "python",
   "pygments_lexer": "ipython3",
   "version": "3.7.11"
  },
  "orig_nbformat": 4
 },
 "nbformat": 4,
 "nbformat_minor": 2
}
